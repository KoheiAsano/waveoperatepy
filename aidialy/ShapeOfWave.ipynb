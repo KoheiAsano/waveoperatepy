{
 "cells": [
  {
   "cell_type": "code",
   "execution_count": 1,
   "metadata": {},
   "outputs": [
    {
     "name": "stdout",
     "output_type": "stream",
     "text": [
      "チャンネル数: 2\n",
      "サンプル幅: 2\n",
      "サンプリング周波数: 44100\n",
      "フレーム数: 132096\n",
      "パラメータ: _wave_params(nchannels=2, sampwidth=2, framerate=44100, nframes=132096, comptype='NONE', compname='not compressed')\n",
      "長さ（秒）: 2.995374149659864\n",
      "528384\n"
     ]
    },
    {
     "data": {
      "image/png": "[encoded data removed]",
      "text/plain": [
       "<matplotlib.figure.Figure at 0x1dbd01d04e0>"
      ]
     },
     "metadata": {},
     "output_type": "display_data"
    }
   ],
   "source": [
    "#coding:utf-8\n",
    "import wave\n",
    "from numpy import *\n",
    "from pylab import *\n",
    "\n",
    "def printWaveInfo(wf):\n",
    "    \"\"\"WAVEファイルの情報を取得\"\"\"\n",
    "    print(\"チャンネル数:\", wf.getnchannels())\n",
    "    print(\"サンプル幅:\", wf.getsampwidth())\n",
    "    print(\"サンプリング周波数:\", wf.getframerate())\n",
    "    print(\"フレーム数:\", wf.getnframes())\n",
    "    print(\"パラメータ:\", wf.getparams())\n",
    "    print(\"長さ（秒）:\", float(wf.getnframes()) / wf.getframerate())\n",
    "\n",
    "if __name__ == '__main__':\n",
    "    wf = wave.open(\"output.wav\", \"r\")\n",
    "    printWaveInfo(wf)\n",
    "    \n",
    "    buffer = wf.readframes(wf.getnframes())\n",
    "    print(len(buffer))  # バイト数 = 1フレーム2バイト x フレーム数\n",
    "\n",
    "    # bufferはバイナリなので2バイトずつ整数（-32768から32767）にまとめる\n",
    "    data = frombuffer(buffer, dtype=\"int16\")\n",
    "\n",
    "    # プロット\n",
    "    plot(data[:510000])\n",
    "    show()"
   ]
  }
 ],
 "metadata": {
  "kernelspec": {
   "display_name": "Python 3",
   "language": "python",
   "name": "python3"
  },
  "language_info": {
   "codemirror_mode": {
    "name": "ipython",
    "version": 3
   },
   "file_extension": ".py",
   "mimetype": "text/x-python",
   "name": "python",
   "nbconvert_exporter": "python",
   "pygments_lexer": "ipython3",
   "version": "3.6.3"
  }
 },
 "nbformat": 4,
 "nbformat_minor": 2
}
