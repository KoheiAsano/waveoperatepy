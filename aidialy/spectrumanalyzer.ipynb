{
 "cells": [
  {
   "cell_type": "code",
   "execution_count": 3,
   "metadata": {},
   "outputs": [
    {
     "name": "stdout",
     "output_type": "stream",
     "text": [
      "17932032\n"
     ]
    },
    {
     "name": "stderr",
     "output_type": "stream",
     "text": [
      "C:\\Users\\aihl01\\Anaconda3\\lib\\site-packages\\ipykernel_launcher.py:56: wxPyDeprecationWarning: Call to deprecated item __call__. Use :meth:`EvtHandler.Bind` instead.\n"
     ]
    }
   ],
   "source": [
    "import sys\n",
    "import wave\n",
    "import numpy as np\n",
    "import scipy.fftpack\n",
    "import matplotlib\n",
    "matplotlib.use('WXAgg')\n",
    "import matplotlib.pyplot as plt\n",
    "\n",
    "wf = wave.open(\"Flamingo.wav\" , \"r\" )\n",
    "fs = wf.getframerate()  # サンプリング周波数\n",
    "x = wf.readframes(wf.getnframes())\n",
    "x = np.frombuffer(x, dtype= \"int16\") / 32768.0  # -1 - +1に正規化\n",
    "wf.close()\n",
    "\n",
    "fig = plt.figure()\n",
    "sp1 = fig.add_subplot(211)\n",
    "sp2 = fig.add_subplot(212)\n",
    "\n",
    "print(len(x))\n",
    "\n",
    "start = 0    # サンプリングする開始位置\n",
    "N = 512      # FFTのサンプル数\n",
    "SHIFT = 128  # 窓関数をずらすサンプル数\n",
    "\n",
    "hammingWindow = np.hamming(N)\n",
    "freqList = np.fft.fftfreq(N, d=1.0/fs)  # 周波数軸の値を計算\n",
    "\n",
    "def update(idleevent):\n",
    "    global start\n",
    "\n",
    "    windowedData = hammingWindow * x[start:start+N]  # 切り出した波形データ（窓関数あり）\n",
    "    X = np.fft.fft(windowedData)  # FFT\n",
    "\n",
    "    amplitudeSpectrum = [np.sqrt(c.real ** 2 + c.imag ** 2) for c in X]  # 振幅スペクトル\n",
    "\n",
    "    # 波形を更新\n",
    "    sp1.cla()  # クリア\n",
    "    sp1.plot(range(start, start+N), x[start:start+N])\n",
    "    sp1.axis([start, start+N, -0.3, 0.3])\n",
    "    sp1.set_xlabel(\"time [sample]\")\n",
    "    sp1.set_ylabel(\"amplitude\")\n",
    "\n",
    "    # 振幅スペクトルを描画\n",
    "    sp2.cla()\n",
    "    sp2.plot(freqList, amplitudeSpectrum, marker= 'o', linestyle='-')\n",
    "    sp2.axis([0, fs/2, 0, 20])\n",
    "    sp2.set_xlabel(\"frequency [Hz]\")\n",
    "    sp2.set_ylabel(\"amplitude spectrum\")\n",
    "\n",
    "    fig.canvas.draw_idle()\n",
    "    start += SHIFT  # 窓関数をかける範囲をずらす\n",
    "    if start + N > len(x):\n",
    "        sys.exit()\n",
    "\n",
    "import wx\n",
    "wx.EVT_IDLE(wx.GetApp(), update)\n",
    "plt.show()"
   ]
  }
 ],
 "metadata": {
  "kernelspec": {
   "display_name": "Python 3",
   "language": "python",
   "name": "python3"
  },
  "language_info": {
   "codemirror_mode": {
    "name": "ipython",
    "version": 3
   },
   "file_extension": ".py",
   "mimetype": "text/x-python",
   "name": "python",
   "nbconvert_exporter": "python",
   "pygments_lexer": "ipython3",
   "version": "3.6.3"
  }
 },
 "nbformat": 4,
 "nbformat_minor": 2
}
