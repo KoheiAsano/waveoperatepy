{
 "cells": [
  {
   "cell_type": "code",
   "execution_count": 11,
   "metadata": {},
   "outputs": [
    {
     "name": "stdout",
     "output_type": "stream",
     "text": [
      "MAX:0.965672492980957,MIN:-0.8241897821426392\n",
      "(20, 8045)\n"
     ]
    }
   ],
   "source": [
    "#FlamingoのMFCC(メル周波数ケプストラム係数)取得, 20*8045, 8045を平均と\n",
    "import librosa\n",
    "import numpy as np\n",
    "\n",
    "#print(wavfiles)\n",
    "#librosaは正規化して取り出してくれる\n",
    "#sr = sampling rate\n",
    "y, sr = librosa.load('test\\\\Flamingo.wav')\n",
    "print(f\"MAX:{max(y)},MIN:{min(y)}\")\n",
    "n_mfcc = 20\n",
    "mfcc = librosa.feature.mfcc(y=y, sr=sr, n_mfcc=n_mfcc)\n",
    "print(mfcc.shape)"
   ]
  },
  {
   "cell_type": "code",
   "execution_count": 1,
   "metadata": {},
   "outputs": [
    {
     "name": "stdout",
     "output_type": "stream",
     "text": [
      "./Goodmorning/*\n",
      "['./Goodmorning\\\\output.wav']\n"
     ]
    }
   ],
   "source": [
    "import glob\n",
    "folder_name = \"./Goodmorning\"\n",
    "waves_PATH = folder_name + '/*'\n",
    "print(waves_PATH)\n",
    "wavfiles = glob.glob(waves_PATH)\n",
    "print(wavfiles)"
   ]
  },
  {
   "cell_type": "code",
   "execution_count": 3,
   "metadata": {
    "collapsed": true
   },
   "outputs": [
    {
     "name": "stdout",
     "output_type": "stream",
     "text": [
      "['Goodmorning\\\\output.wav']\n",
      "1/1 loaded: Goodmorning\\output.wav\n",
      "['Goodnight\\\\output.wav']\n",
      "1/1 loaded: Goodnight\\output.wav\n",
      "['Letsgo\\\\output.wav']\n",
      "1/1 loaded: Letsgo\\output.wav\n",
      "[[ -5.68392424e+02   1.01706066e+02   2.08699958e+01  -1.64627646e+01\n",
      "   -1.49869733e+01  -3.09978040e-01   8.98483503e+00   3.99806403e+00\n",
      "   -1.66798903e+01   5.04925707e+00  -3.96232100e+00  -1.36195796e+01\n",
      "   -1.04709971e+01  -5.30514888e+00  -1.37789558e+01  -7.91116929e+00\n",
      "   -1.77256581e+01  -1.04796509e+01  -1.45213817e+01  -9.95476520e+00]\n",
      " [ -5.68392424e+02   1.01706066e+02   2.08699958e+01  -1.64627646e+01\n",
      "   -1.49869733e+01  -3.09978040e-01   8.98483503e+00   3.99806403e+00\n",
      "   -1.66798903e+01   5.04925707e+00  -3.96232100e+00  -1.36195796e+01\n",
      "   -1.04709971e+01  -5.30514888e+00  -1.37789558e+01  -7.91116929e+00\n",
      "   -1.77256581e+01  -1.04796509e+01  -1.45213817e+01  -9.95476520e+00]\n",
      " [ -5.68392424e+02   1.01706066e+02   2.08699958e+01  -1.64627646e+01\n",
      "   -1.49869733e+01  -3.09978040e-01   8.98483503e+00   3.99806403e+00\n",
      "   -1.66798903e+01   5.04925707e+00  -3.96232100e+00  -1.36195796e+01\n",
      "   -1.04709971e+01  -5.30514888e+00  -1.37789558e+01  -7.91116929e+00\n",
      "   -1.77256581e+01  -1.04796509e+01  -1.45213817e+01  -9.95476520e+00]] [[ 1.  0.  0.]\n",
      " [ 0.  1.  0.]\n",
      " [ 0.  0.  1.]]\n"
     ]
    }
   ],
   "source": [
    "import librosa\n",
    "import numpy as np\n",
    "import os\n",
    "import glob\n",
    "from keras.utils import np_utils\n",
    "\n",
    "\n",
    "def GetWAVfiles(folder_name):\n",
    "    waves_PATH = folder_name + '/*.wav'\n",
    "    wavfiles = glob.glob(waves_PATH)\n",
    "    return wavfiles\n",
    "\n",
    "def getMFCCmeans(folder_name, label):\n",
    "    n_mfcc = 20\n",
    "    genre_x = np.zeros((0, n_mfcc))\n",
    "    genre_y = np.zeros((0, 1), dtype='int')\n",
    "\n",
    "    wavfiles = GetWAVfiles(folder_name)\n",
    "    print(wavfiles)\n",
    "    for i, wav in enumerate(wavfiles):\n",
    "        y, sr = librosa.load(wav)\n",
    "        mfcc = librosa.feature.mfcc(y=y, sr=sr, n_mfcc=n_mfcc)\n",
    "        mean = np.mean(mfcc, axis = 1)\n",
    "        genre_x = np.vstack((genre_x, mean))\n",
    "        genre_y = np.vstack((genre_y, label))\n",
    "\n",
    "        print(f'{i+1}/{len(wavfiles)} loaded: {wav}')\n",
    "\n",
    "    return genre_x, genre_y\n",
    "\n",
    "if __name__ == '__main__':\n",
    "    Goodmorning_x, Goodmorning_y = getMFCCmeans('Goodmorning', 0)\n",
    "    Goodnight_x, Goodnight_y = getMFCCmeans('Goodnight' , 1)\n",
    "    Letsgo_x, Letsgo_y = getMFCCmeans('Letsgo' , 2)\n",
    "\n",
    "    X = np.r_[Goodmorning_x, Goodnight_x,Letsgo_x]\n",
    "    Y = np.r_[Goodmorning_y, Goodnight_y,Letsgo_y]\n",
    "    Y = np_utils.to_categorical(Y)\n",
    "    print(X,Y)\n",
    "\n",
    "    np.save('X.npy', X)\n",
    "    np.save('Y.npy', Y)"
   ]
  },
  {
   "cell_type": "code",
   "execution_count": 4,
   "metadata": {},
   "outputs": [
    {
     "name": "stderr",
     "output_type": "stream",
     "text": [
      "C:\\Users\\aihl01\\Anaconda3\\lib\\site-packages\\sklearn\\model_selection\\_split.py:2026: FutureWarning: From version 0.21, test_size will always complement train_size unless both are specified.\n",
      "  FutureWarning)\n"
     ]
    }
   ],
   "source": [
    "from sklearn.model_selection import train_test_split\n",
    "x_train, x_test, y_train, y_test = train_test_split(X, Y, train_size=0.8)"
   ]
  }
 ],
 "metadata": {
  "kernelspec": {
   "display_name": "Python 3",
   "language": "python",
   "name": "python3"
  },
  "language_info": {
   "codemirror_mode": {
    "name": "ipython",
    "version": 3
   },
   "file_extension": ".py",
   "mimetype": "text/x-python",
   "name": "python",
   "nbconvert_exporter": "python",
   "pygments_lexer": "ipython3",
   "version": "3.6.3"
  }
 },
 "nbformat": 4,
 "nbformat_minor": 2
}
