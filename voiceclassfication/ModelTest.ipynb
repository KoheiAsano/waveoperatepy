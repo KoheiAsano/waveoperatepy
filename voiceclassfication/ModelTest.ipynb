{
 "cells": [
  {
   "cell_type": "code",
   "execution_count": 27,
   "metadata": {},
   "outputs": [],
   "source": [
    "from keras.models import load_model\n",
    "model = load_model('my_model.h5')"
   ]
  },
  {
   "cell_type": "code",
   "execution_count": 2,
   "metadata": {},
   "outputs": [
    {
     "name": "stdout",
     "output_type": "stream",
     "text": [
      "(20, 216)\n"
     ]
    }
   ],
   "source": [
    "import librosa\n",
    "n_mfcc = 20\n",
    "y, sr = librosa.load(\"./Goodnight/oyasumi.wav\")\n",
    "mfcc = librosa.feature.mfcc(y=y, sr=sr, n_mfcc=n_mfcc)\n",
    "print(mfcc.shape)"
   ]
  },
  {
   "cell_type": "code",
   "execution_count": 3,
   "metadata": {},
   "outputs": [
    {
     "data": {
      "text/plain": [
       "1"
      ]
     },
     "execution_count": 3,
     "metadata": {},
     "output_type": "execute_result"
    }
   ],
   "source": [
    "test = mfcc.reshape(1,20, 216, 1)\n",
    "model.predict(test).argmax()"
   ]
  },
  {
   "cell_type": "markdown",
   "metadata": {},
   "source": [
    "\"./Goodmorning/ohayou.wav\"\n",
    "\"./Goodnight/oyasumi.wav\"\n",
    "\"./Letsgo/yaruzo.wav\""
   ]
  },
  {
   "cell_type": "code",
   "execution_count": 58,
   "metadata": {
    "scrolled": true
   },
   "outputs": [
    {
     "name": "stdout",
     "output_type": "stream",
     "text": [
      "* recording\n",
      "* done recording\n",
      "[[ 0.05185132  0.04158668  0.90656203]]\n"
     ]
    }
   ],
   "source": [
    "import numpy as np\n",
    "from audiofunc import RecordToWav,PlotWav,Play\n",
    "wave = RecordToWav()\n",
    "Play(wave)\n",
    "y, sr = librosa.load(wave)\n",
    "mfcc = librosa.feature.mfcc(y=y, sr=sr, n_mfcc=n_mfcc)\n",
    "test = mfcc.reshape(1,20, 216, 1)\n",
    "Greet = model.predict(test).argmax()\n",
    "print(model.predict(test))\n",
    "if Greet==0:#ohayo\n",
    "    Play(\"g_ohayo.wav\")\n",
    "elif Greet==1:#oyasumi\n",
    "    Play(\"g_oyasumi.wav\")\n",
    "else:\n",
    "    Play(\"g_ganbatte.wav\")"
   ]
  }
 ],
 "metadata": {
  "kernelspec": {
   "display_name": "Python 3",
   "language": "python",
   "name": "python3"
  },
  "language_info": {
   "codemirror_mode": {
    "name": "ipython",
    "version": 3
   },
   "file_extension": ".py",
   "mimetype": "text/x-python",
   "name": "python",
   "nbconvert_exporter": "python",
   "pygments_lexer": "ipython3",
   "version": "3.6.3"
  }
 },
 "nbformat": 4,
 "nbformat_minor": 2
}
